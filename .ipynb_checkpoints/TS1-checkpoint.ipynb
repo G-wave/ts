{
 "cells": [
  {
   "cell_type": "code",
   "execution_count": 7,
   "metadata": {},
   "outputs": [],
   "source": [
    "import pandas\n",
    "from datetime import datetime\n",
    "import matplotlib.pyplot as plt\n",
    "%matplotlib inline\n",
    "import quandl"
   ]
  },
  {
   "cell_type": "code",
   "execution_count": 8,
   "metadata": {
    "collapsed": true
   },
   "outputs": [],
   "source": [
    "quandl.ApiConfig.api_key = \"nnw_FqossUnnhC-4xhBQ\"\n",
    "tesla = quandl.get('WIKI/TSLA')"
   ]
  },
  {
   "cell_type": "code",
   "execution_count": 13,
   "metadata": {},
   "outputs": [
    {
     "data": {
      "text/html": [
       "<div>\n",
       "<style>\n",
       "    .dataframe thead tr:only-child th {\n",
       "        text-align: right;\n",
       "    }\n",
       "\n",
       "    .dataframe thead th {\n",
       "        text-align: left;\n",
       "    }\n",
       "\n",
       "    .dataframe tbody tr th {\n",
       "        vertical-align: top;\n",
       "    }\n",
       "</style>\n",
       "<table border=\"1\" class=\"dataframe\">\n",
       "  <thead>\n",
       "    <tr style=\"text-align: right;\">\n",
       "      <th></th>\n",
       "      <th>Open</th>\n",
       "      <th>High</th>\n",
       "      <th>Low</th>\n",
       "      <th>Close</th>\n",
       "      <th>Volume</th>\n",
       "      <th>Ex-Dividend</th>\n",
       "      <th>Split Ratio</th>\n",
       "      <th>Adj. Open</th>\n",
       "      <th>Adj. High</th>\n",
       "      <th>Adj. Low</th>\n",
       "      <th>Adj. Close</th>\n",
       "      <th>Adj. Volume</th>\n",
       "    </tr>\n",
       "    <tr>\n",
       "      <th>Date</th>\n",
       "      <th></th>\n",
       "      <th></th>\n",
       "      <th></th>\n",
       "      <th></th>\n",
       "      <th></th>\n",
       "      <th></th>\n",
       "      <th></th>\n",
       "      <th></th>\n",
       "      <th></th>\n",
       "      <th></th>\n",
       "      <th></th>\n",
       "      <th></th>\n",
       "    </tr>\n",
       "  </thead>\n",
       "  <tbody>\n",
       "    <tr>\n",
       "      <th>2014-03-27</th>\n",
       "      <td>568.000</td>\n",
       "      <td>568.00</td>\n",
       "      <td>552.92</td>\n",
       "      <td>558.46</td>\n",
       "      <td>13100.0</td>\n",
       "      <td>0.0</td>\n",
       "      <td>1.0</td>\n",
       "      <td>568.000</td>\n",
       "      <td>568.00</td>\n",
       "      <td>552.92</td>\n",
       "      <td>558.46</td>\n",
       "      <td>13100.0</td>\n",
       "    </tr>\n",
       "    <tr>\n",
       "      <th>2014-03-28</th>\n",
       "      <td>561.200</td>\n",
       "      <td>566.43</td>\n",
       "      <td>558.67</td>\n",
       "      <td>559.99</td>\n",
       "      <td>41100.0</td>\n",
       "      <td>0.0</td>\n",
       "      <td>1.0</td>\n",
       "      <td>561.200</td>\n",
       "      <td>566.43</td>\n",
       "      <td>558.67</td>\n",
       "      <td>559.99</td>\n",
       "      <td>41100.0</td>\n",
       "    </tr>\n",
       "    <tr>\n",
       "      <th>2014-03-31</th>\n",
       "      <td>566.890</td>\n",
       "      <td>567.00</td>\n",
       "      <td>556.93</td>\n",
       "      <td>556.97</td>\n",
       "      <td>10800.0</td>\n",
       "      <td>0.0</td>\n",
       "      <td>1.0</td>\n",
       "      <td>566.890</td>\n",
       "      <td>567.00</td>\n",
       "      <td>556.93</td>\n",
       "      <td>556.97</td>\n",
       "      <td>10800.0</td>\n",
       "    </tr>\n",
       "    <tr>\n",
       "      <th>2014-04-01</th>\n",
       "      <td>558.710</td>\n",
       "      <td>568.45</td>\n",
       "      <td>558.71</td>\n",
       "      <td>567.16</td>\n",
       "      <td>7900.0</td>\n",
       "      <td>0.0</td>\n",
       "      <td>1.0</td>\n",
       "      <td>558.710</td>\n",
       "      <td>568.45</td>\n",
       "      <td>558.71</td>\n",
       "      <td>567.16</td>\n",
       "      <td>7900.0</td>\n",
       "    </tr>\n",
       "    <tr>\n",
       "      <th>2014-04-02</th>\n",
       "      <td>565.106</td>\n",
       "      <td>604.83</td>\n",
       "      <td>562.19</td>\n",
       "      <td>567.00</td>\n",
       "      <td>146700.0</td>\n",
       "      <td>0.0</td>\n",
       "      <td>1.0</td>\n",
       "      <td>565.106</td>\n",
       "      <td>604.83</td>\n",
       "      <td>562.19</td>\n",
       "      <td>567.00</td>\n",
       "      <td>146700.0</td>\n",
       "    </tr>\n",
       "  </tbody>\n",
       "</table>\n",
       "</div>"
      ],
      "text/plain": [
       "               Open    High     Low   Close    Volume  Ex-Dividend  \\\n",
       "Date                                                                 \n",
       "2014-03-27  568.000  568.00  552.92  558.46   13100.0          0.0   \n",
       "2014-03-28  561.200  566.43  558.67  559.99   41100.0          0.0   \n",
       "2014-03-31  566.890  567.00  556.93  556.97   10800.0          0.0   \n",
       "2014-04-01  558.710  568.45  558.71  567.16    7900.0          0.0   \n",
       "2014-04-02  565.106  604.83  562.19  567.00  146700.0          0.0   \n",
       "\n",
       "            Split Ratio  Adj. Open  Adj. High  Adj. Low  Adj. Close  \\\n",
       "Date                                                                  \n",
       "2014-03-27          1.0    568.000     568.00    552.92      558.46   \n",
       "2014-03-28          1.0    561.200     566.43    558.67      559.99   \n",
       "2014-03-31          1.0    566.890     567.00    556.93      556.97   \n",
       "2014-04-01          1.0    558.710     568.45    558.71      567.16   \n",
       "2014-04-02          1.0    565.106     604.83    562.19      567.00   \n",
       "\n",
       "            Adj. Volume  \n",
       "Date                     \n",
       "2014-03-27      13100.0  \n",
       "2014-03-28      41100.0  \n",
       "2014-03-31      10800.0  \n",
       "2014-04-01       7900.0  \n",
       "2014-04-02     146700.0  "
      ]
     },
     "execution_count": 13,
     "metadata": {},
     "output_type": "execute_result"
    }
   ],
   "source": [
    "goog = quandl.get('WIKI/GOOG')\n",
    "goog.head()"
   ]
  },
  {
   "cell_type": "code",
   "execution_count": 32,
   "metadata": {},
   "outputs": [
    {
     "name": "stdout",
     "output_type": "stream",
     "text": [
      "<class 'pandas.core.frame.DataFrame'>\n",
      "DatetimeIndex: 1007 entries, 2014-03-27 to 2018-03-27\n",
      "Data columns (total 12 columns):\n",
      "Open           1007 non-null float64\n",
      "High           1007 non-null float64\n",
      "Low            1007 non-null float64\n",
      "Close          1007 non-null float64\n",
      "Volume         1007 non-null float64\n",
      "Ex-Dividend    1007 non-null float64\n",
      "Split Ratio    1007 non-null float64\n",
      "Adj. Open      1007 non-null float64\n",
      "Adj. High      1007 non-null float64\n",
      "Adj. Low       1007 non-null float64\n",
      "Adj. Close     1007 non-null float64\n",
      "Adj. Volume    1007 non-null float64\n",
      "dtypes: float64(12)\n",
      "memory usage: 102.3 KB\n"
     ]
    },
    {
     "data": {
      "image/png": "[encoded data removed]",
      "text/plain": [
       "<Figure size 432x288 with 1 Axes>"
      ]
     },
     "metadata": {},
     "output_type": "display_data"
    }
   ],
   "source": [
    "goog.info()\n",
    "goog['Adj. Close'].plot(title = 'Google Stock Price - Closed')\n",
    "plt.tight_layout()\n",
    "plt.show()"
   ]
  },
  {
   "cell_type": "code",
   "execution_count": 34,
   "metadata": {},
   "outputs": [
    {
     "name": "stdout",
     "output_type": "stream",
     "text": [
      "<class 'pandas.core.frame.DataFrame'>\n",
      "DatetimeIndex: 194 entries, 2014-03-27 to 2014-12-31\n",
      "Data columns (total 12 columns):\n",
      "Open           194 non-null float64\n",
      "High           194 non-null float64\n",
      "Low            194 non-null float64\n",
      "Close          194 non-null float64\n",
      "Volume         194 non-null float64\n",
      "Ex-Dividend    194 non-null float64\n",
      "Split Ratio    194 non-null float64\n",
      "Adj. Open      194 non-null float64\n",
      "Adj. High      194 non-null float64\n",
      "Adj. Low       194 non-null float64\n",
      "Adj. Close     194 non-null float64\n",
      "Adj. Volume    194 non-null float64\n",
      "dtypes: float64(12)\n",
      "memory usage: 19.7 KB\n"
     ]
    }
   ],
   "source": [
    "goog['2014'].info()"
   ]
  },
  {
   "cell_type": "code",
   "execution_count": 58,
   "metadata": {},
   "outputs": [
    {
     "name": "stdout",
     "output_type": "stream",
     "text": [
      "<class 'pandas.core.frame.DataFrame'>\n",
      "DatetimeIndex: 1044 entries, 2014-03-27 to 2018-03-27\n",
      "Freq: B\n",
      "Data columns (total 12 columns):\n",
      "Open           1007 non-null float64\n",
      "High           1007 non-null float64\n",
      "Low            1007 non-null float64\n",
      "Close          1007 non-null float64\n",
      "Volume         1007 non-null float64\n",
      "Ex-Dividend    1007 non-null float64\n",
      "Split Ratio    1007 non-null float64\n",
      "Adj. Open      1007 non-null float64\n",
      "Adj. High      1007 non-null float64\n",
      "Adj. Low       1007 non-null float64\n",
      "Adj. Close     1007 non-null float64\n",
      "Adj. Volume    1007 non-null float64\n",
      "dtypes: float64(12)\n",
      "memory usage: 106.0 KB\n"
     ]
    }
   ],
   "source": [
    "google = goog.asfreq('B')\n",
    "google.info()"
   ]
  },
  {
   "cell_type": "code",
   "execution_count": 59,
   "metadata": {},
   "outputs": [
    {
     "data": {
      "text/html": [
       "<div>\n",
       "<style>\n",
       "    .dataframe thead tr:only-child th {\n",
       "        text-align: right;\n",
       "    }\n",
       "\n",
       "    .dataframe thead th {\n",
       "        text-align: left;\n",
       "    }\n",
       "\n",
       "    .dataframe tbody tr th {\n",
       "        vertical-align: top;\n",
       "    }\n",
       "</style>\n",
       "<table border=\"1\" class=\"dataframe\">\n",
       "  <thead>\n",
       "    <tr style=\"text-align: right;\">\n",
       "      <th></th>\n",
       "      <th>Open</th>\n",
       "      <th>High</th>\n",
       "      <th>Low</th>\n",
       "      <th>Close</th>\n",
       "      <th>Volume</th>\n",
       "      <th>Ex-Dividend</th>\n",
       "      <th>Split Ratio</th>\n",
       "      <th>Adj. Open</th>\n",
       "      <th>Adj. High</th>\n",
       "      <th>Adj. Low</th>\n",
       "      <th>Adj. Close</th>\n",
       "      <th>Adj. Volume</th>\n",
       "    </tr>\n",
       "    <tr>\n",
       "      <th>Date</th>\n",
       "      <th></th>\n",
       "      <th></th>\n",
       "      <th></th>\n",
       "      <th></th>\n",
       "      <th></th>\n",
       "      <th></th>\n",
       "      <th></th>\n",
       "      <th></th>\n",
       "      <th></th>\n",
       "      <th></th>\n",
       "      <th></th>\n",
       "      <th></th>\n",
       "    </tr>\n",
       "  </thead>\n",
       "  <tbody>\n",
       "    <tr>\n",
       "      <th>2014-03-27</th>\n",
       "      <td>568.000</td>\n",
       "      <td>568.00</td>\n",
       "      <td>552.92</td>\n",
       "      <td>558.46</td>\n",
       "      <td>13100.0</td>\n",
       "      <td>0.0</td>\n",
       "      <td>1.0</td>\n",
       "      <td>568.000</td>\n",
       "      <td>568.00</td>\n",
       "      <td>552.92</td>\n",
       "      <td>558.46</td>\n",
       "      <td>13100.0</td>\n",
       "    </tr>\n",
       "    <tr>\n",
       "      <th>2014-03-28</th>\n",
       "      <td>561.200</td>\n",
       "      <td>566.43</td>\n",
       "      <td>558.67</td>\n",
       "      <td>559.99</td>\n",
       "      <td>41100.0</td>\n",
       "      <td>0.0</td>\n",
       "      <td>1.0</td>\n",
       "      <td>561.200</td>\n",
       "      <td>566.43</td>\n",
       "      <td>558.67</td>\n",
       "      <td>559.99</td>\n",
       "      <td>41100.0</td>\n",
       "    </tr>\n",
       "    <tr>\n",
       "      <th>2014-03-31</th>\n",
       "      <td>566.890</td>\n",
       "      <td>567.00</td>\n",
       "      <td>556.93</td>\n",
       "      <td>556.97</td>\n",
       "      <td>10800.0</td>\n",
       "      <td>0.0</td>\n",
       "      <td>1.0</td>\n",
       "      <td>566.890</td>\n",
       "      <td>567.00</td>\n",
       "      <td>556.93</td>\n",
       "      <td>556.97</td>\n",
       "      <td>10800.0</td>\n",
       "    </tr>\n",
       "    <tr>\n",
       "      <th>2014-04-01</th>\n",
       "      <td>558.710</td>\n",
       "      <td>568.45</td>\n",
       "      <td>558.71</td>\n",
       "      <td>567.16</td>\n",
       "      <td>7900.0</td>\n",
       "      <td>0.0</td>\n",
       "      <td>1.0</td>\n",
       "      <td>558.710</td>\n",
       "      <td>568.45</td>\n",
       "      <td>558.71</td>\n",
       "      <td>567.16</td>\n",
       "      <td>7900.0</td>\n",
       "    </tr>\n",
       "    <tr>\n",
       "      <th>2014-04-02</th>\n",
       "      <td>565.106</td>\n",
       "      <td>604.83</td>\n",
       "      <td>562.19</td>\n",
       "      <td>567.00</td>\n",
       "      <td>146700.0</td>\n",
       "      <td>0.0</td>\n",
       "      <td>1.0</td>\n",
       "      <td>565.106</td>\n",
       "      <td>604.83</td>\n",
       "      <td>562.19</td>\n",
       "      <td>567.00</td>\n",
       "      <td>146700.0</td>\n",
       "    </tr>\n",
       "  </tbody>\n",
       "</table>\n",
       "</div>"
      ],
      "text/plain": [
       "               Open    High     Low   Close    Volume  Ex-Dividend  \\\n",
       "Date                                                                 \n",
       "2014-03-27  568.000  568.00  552.92  558.46   13100.0          0.0   \n",
       "2014-03-28  561.200  566.43  558.67  559.99   41100.0          0.0   \n",
       "2014-03-31  566.890  567.00  556.93  556.97   10800.0          0.0   \n",
       "2014-04-01  558.710  568.45  558.71  567.16    7900.0          0.0   \n",
       "2014-04-02  565.106  604.83  562.19  567.00  146700.0          0.0   \n",
       "\n",
       "            Split Ratio  Adj. Open  Adj. High  Adj. Low  Adj. Close  \\\n",
       "Date                                                                  \n",
       "2014-03-27          1.0    568.000     568.00    552.92      558.46   \n",
       "2014-03-28          1.0    561.200     566.43    558.67      559.99   \n",
       "2014-03-31          1.0    566.890     567.00    556.93      556.97   \n",
       "2014-04-01          1.0    558.710     568.45    558.71      567.16   \n",
       "2014-04-02          1.0    565.106     604.83    562.19      567.00   \n",
       "\n",
       "            Adj. Volume  \n",
       "Date                     \n",
       "2014-03-27      13100.0  \n",
       "2014-03-28      41100.0  \n",
       "2014-03-31      10800.0  \n",
       "2014-04-01       7900.0  \n",
       "2014-04-02     146700.0  "
      ]
     },
     "execution_count": 59,
     "metadata": {},
     "output_type": "execute_result"
    }
   ],
   "source": [
    "google.head()"
   ]
  },
  {
   "cell_type": "code",
   "execution_count": 60,
   "metadata": {},
   "outputs": [
    {
     "data": {
      "text/plain": [
       "<matplotlib.axes._subplots.AxesSubplot at 0x11be092e8>"
      ]
     },
     "execution_count": 60,
     "metadata": {},
     "output_type": "execute_result"
    },
    {
     "data": {
      "image/png": "[encoded data removed]",
      "text/plain": [
       "<Figure size 432x288 with 1 Axes>"
      ]
     },
     "metadata": {},
     "output_type": "display_data"
    }
   ],
   "source": [
    "google['Adj. Close'].plot(title = 'Google Stock Price - Closed')"
   ]
  },
  {
   "cell_type": "code",
   "execution_count": 70,
   "metadata": {},
   "outputs": [
    {
     "data": {
      "text/plain": [
       "Date\n",
       "2015-01-02    524.81\n",
       "2015-01-05    513.87\n",
       "2015-01-06    501.96\n",
       "2015-01-07    501.10\n",
       "2015-01-08    502.68\n",
       "2015-01-09    496.17\n",
       "2015-01-12    492.55\n",
       "2015-01-13    496.18\n",
       "2015-01-14    500.87\n",
       "2015-01-15    501.79\n",
       "2015-01-16    508.08\n",
       "2015-01-20    506.90\n",
       "2015-01-21    518.04\n",
       "2015-01-22    534.39\n",
       "2015-01-23    539.95\n",
       "2015-01-26    535.21\n",
       "2015-01-27    518.63\n",
       "2015-01-28    510.00\n",
       "2015-01-29    510.66\n",
       "2015-01-30    534.52\n",
       "Name: Close, dtype: float64"
      ]
     },
     "execution_count": 70,
     "metadata": {},
     "output_type": "execute_result"
    }
   ],
   "source": [
    "goog['2015-01'].Close"
   ]
  },
  {
   "cell_type": "code",
   "execution_count": null,
   "metadata": {
    "collapsed": true
   },
   "outputs": [],
   "source": []
  }
 ],
 "metadata": {
  "kernelspec": {
   "display_name": "Python 3",
   "language": "python",
   "name": "python3"
  },
  "language_info": {
   "codemirror_mode": {
    "name": "ipython",
    "version": 3
   },
   "file_extension": ".py",
   "mimetype": "text/x-python",
   "name": "python",
   "nbconvert_exporter": "python",
   "pygments_lexer": "ipython3",
   "version": "3.6.2"
  }
 },
 "nbformat": 4,
 "nbformat_minor": 2
}

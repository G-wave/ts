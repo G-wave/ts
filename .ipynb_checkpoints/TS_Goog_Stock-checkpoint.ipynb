{
 "cells": [
  {
   "cell_type": "markdown",
   "metadata": {},
   "source": [
    "# Time Series with Google Stock Date"
   ]
  },
  {
   "cell_type": "code",
   "execution_count": 68,
   "metadata": {
    "collapsed": true
   },
   "outputs": [],
   "source": [
    "import pandas as pd\n",
    "from datetime import datetime\n",
    "import matplotlib.pyplot as plt\n",
    "%matplotlib inline\n",
    "import quandl"
   ]
  },
  {
   "cell_type": "code",
   "execution_count": 4,
   "metadata": {
    "collapsed": true
   },
   "outputs": [],
   "source": [
    "quandl.ApiConfig.api_key = \"nnw_FqossUnnhC-4xhBQ\""
   ]
  },
  {
   "cell_type": "code",
   "execution_count": 170,
   "metadata": {},
   "outputs": [
    {
     "data": {
      "text/html": [
       "<div>\n",
       "<style>\n",
       "    .dataframe thead tr:only-child th {\n",
       "        text-align: right;\n",
       "    }\n",
       "\n",
       "    .dataframe thead th {\n",
       "        text-align: left;\n",
       "    }\n",
       "\n",
       "    .dataframe tbody tr th {\n",
       "        vertical-align: top;\n",
       "    }\n",
       "</style>\n",
       "<table border=\"1\" class=\"dataframe\">\n",
       "  <thead>\n",
       "    <tr style=\"text-align: right;\">\n",
       "      <th></th>\n",
       "      <th>Open</th>\n",
       "      <th>High</th>\n",
       "      <th>Low</th>\n",
       "      <th>Close</th>\n",
       "      <th>Volume</th>\n",
       "      <th>Ex-Dividend</th>\n",
       "      <th>Split Ratio</th>\n",
       "      <th>Adj. Open</th>\n",
       "      <th>Adj. High</th>\n",
       "      <th>Adj. Low</th>\n",
       "      <th>Adj. Close</th>\n",
       "      <th>Adj. Volume</th>\n",
       "    </tr>\n",
       "    <tr>\n",
       "      <th>Date</th>\n",
       "      <th></th>\n",
       "      <th></th>\n",
       "      <th></th>\n",
       "      <th></th>\n",
       "      <th></th>\n",
       "      <th></th>\n",
       "      <th></th>\n",
       "      <th></th>\n",
       "      <th></th>\n",
       "      <th></th>\n",
       "      <th></th>\n",
       "      <th></th>\n",
       "    </tr>\n",
       "  </thead>\n",
       "  <tbody>\n",
       "    <tr>\n",
       "      <th>2014-03-27</th>\n",
       "      <td>568.000</td>\n",
       "      <td>568.00</td>\n",
       "      <td>552.92</td>\n",
       "      <td>558.46</td>\n",
       "      <td>13100.0</td>\n",
       "      <td>0.0</td>\n",
       "      <td>1.0</td>\n",
       "      <td>568.000</td>\n",
       "      <td>568.00</td>\n",
       "      <td>552.92</td>\n",
       "      <td>558.46</td>\n",
       "      <td>13100.0</td>\n",
       "    </tr>\n",
       "    <tr>\n",
       "      <th>2014-03-28</th>\n",
       "      <td>561.200</td>\n",
       "      <td>566.43</td>\n",
       "      <td>558.67</td>\n",
       "      <td>559.99</td>\n",
       "      <td>41100.0</td>\n",
       "      <td>0.0</td>\n",
       "      <td>1.0</td>\n",
       "      <td>561.200</td>\n",
       "      <td>566.43</td>\n",
       "      <td>558.67</td>\n",
       "      <td>559.99</td>\n",
       "      <td>41100.0</td>\n",
       "    </tr>\n",
       "    <tr>\n",
       "      <th>2014-03-31</th>\n",
       "      <td>566.890</td>\n",
       "      <td>567.00</td>\n",
       "      <td>556.93</td>\n",
       "      <td>556.97</td>\n",
       "      <td>10800.0</td>\n",
       "      <td>0.0</td>\n",
       "      <td>1.0</td>\n",
       "      <td>566.890</td>\n",
       "      <td>567.00</td>\n",
       "      <td>556.93</td>\n",
       "      <td>556.97</td>\n",
       "      <td>10800.0</td>\n",
       "    </tr>\n",
       "    <tr>\n",
       "      <th>2014-04-01</th>\n",
       "      <td>558.710</td>\n",
       "      <td>568.45</td>\n",
       "      <td>558.71</td>\n",
       "      <td>567.16</td>\n",
       "      <td>7900.0</td>\n",
       "      <td>0.0</td>\n",
       "      <td>1.0</td>\n",
       "      <td>558.710</td>\n",
       "      <td>568.45</td>\n",
       "      <td>558.71</td>\n",
       "      <td>567.16</td>\n",
       "      <td>7900.0</td>\n",
       "    </tr>\n",
       "    <tr>\n",
       "      <th>2014-04-02</th>\n",
       "      <td>565.106</td>\n",
       "      <td>604.83</td>\n",
       "      <td>562.19</td>\n",
       "      <td>567.00</td>\n",
       "      <td>146700.0</td>\n",
       "      <td>0.0</td>\n",
       "      <td>1.0</td>\n",
       "      <td>565.106</td>\n",
       "      <td>604.83</td>\n",
       "      <td>562.19</td>\n",
       "      <td>567.00</td>\n",
       "      <td>146700.0</td>\n",
       "    </tr>\n",
       "  </tbody>\n",
       "</table>\n",
       "</div>"
      ],
      "text/plain": [
       "               Open    High     Low   Close    Volume  Ex-Dividend  \\\n",
       "Date                                                                 \n",
       "2014-03-27  568.000  568.00  552.92  558.46   13100.0          0.0   \n",
       "2014-03-28  561.200  566.43  558.67  559.99   41100.0          0.0   \n",
       "2014-03-31  566.890  567.00  556.93  556.97   10800.0          0.0   \n",
       "2014-04-01  558.710  568.45  558.71  567.16    7900.0          0.0   \n",
       "2014-04-02  565.106  604.83  562.19  567.00  146700.0          0.0   \n",
       "\n",
       "            Split Ratio  Adj. Open  Adj. High  Adj. Low  Adj. Close  \\\n",
       "Date                                                                  \n",
       "2014-03-27          1.0    568.000     568.00    552.92      558.46   \n",
       "2014-03-28          1.0    561.200     566.43    558.67      559.99   \n",
       "2014-03-31          1.0    566.890     567.00    556.93      556.97   \n",
       "2014-04-01          1.0    558.710     568.45    558.71      567.16   \n",
       "2014-04-02          1.0    565.106     604.83    562.19      567.00   \n",
       "\n",
       "            Adj. Volume  \n",
       "Date                     \n",
       "2014-03-27      13100.0  \n",
       "2014-03-28      41100.0  \n",
       "2014-03-31      10800.0  \n",
       "2014-04-01       7900.0  \n",
       "2014-04-02     146700.0  "
      ]
     },
     "execution_count": 170,
     "metadata": {},
     "output_type": "execute_result"
    }
   ],
   "source": [
    "goog = quandl.get('WIKI/GOOG')\n",
    "goog.head()"
   ]
  },
  {
   "cell_type": "code",
   "execution_count": 171,
   "metadata": {},
   "outputs": [
    {
     "name": "stdout",
     "output_type": "stream",
     "text": [
      "<class 'pandas.core.frame.DataFrame'>\n",
      "DatetimeIndex: 1007 entries, 2014-03-27 to 2018-03-27\n",
      "Data columns (total 12 columns):\n",
      "Open           1007 non-null float64\n",
      "High           1007 non-null float64\n",
      "Low            1007 non-null float64\n",
      "Close          1007 non-null float64\n",
      "Volume         1007 non-null float64\n",
      "Ex-Dividend    1007 non-null float64\n",
      "Split Ratio    1007 non-null float64\n",
      "Adj. Open      1007 non-null float64\n",
      "Adj. High      1007 non-null float64\n",
      "Adj. Low       1007 non-null float64\n",
      "Adj. Close     1007 non-null float64\n",
      "Adj. Volume    1007 non-null float64\n",
      "dtypes: float64(12)\n",
      "memory usage: 102.3 KB\n"
     ]
    }
   ],
   "source": [
    "goog.info()"
   ]
  },
  {
   "cell_type": "code",
   "execution_count": 172,
   "metadata": {},
   "outputs": [
    {
     "data": {
      "image/png": "[encoded data removed]",
      "text/plain": [
       "<Figure size 432x288 with 1 Axes>"
      ]
     },
     "metadata": {},
     "output_type": "display_data"
    }
   ],
   "source": [
    "goog['Adj. Close'].plot(title = 'Google Stock Price - Closed')\n",
    "plt.tight_layout()\n",
    "plt.show()"
   ]
  },
  {
   "cell_type": "code",
   "execution_count": 173,
   "metadata": {},
   "outputs": [
    {
     "name": "stdout",
     "output_type": "stream",
     "text": [
      "<class 'pandas.core.frame.DataFrame'>\n",
      "DatetimeIndex: 194 entries, 2014-03-27 to 2014-12-31\n",
      "Data columns (total 12 columns):\n",
      "Open           194 non-null float64\n",
      "High           194 non-null float64\n",
      "Low            194 non-null float64\n",
      "Close          194 non-null float64\n",
      "Volume         194 non-null float64\n",
      "Ex-Dividend    194 non-null float64\n",
      "Split Ratio    194 non-null float64\n",
      "Adj. Open      194 non-null float64\n",
      "Adj. High      194 non-null float64\n",
      "Adj. Low       194 non-null float64\n",
      "Adj. Close     194 non-null float64\n",
      "Adj. Volume    194 non-null float64\n",
      "dtypes: float64(12)\n",
      "memory usage: 19.7 KB\n"
     ]
    },
    {
     "data": {
      "image/png": "[encoded data removed]",
      "text/plain": [
       "<Figure size 432x288 with 1 Axes>"
      ]
     },
     "metadata": {},
     "output_type": "display_data"
    }
   ],
   "source": [
    "goog['2014'].info()\n",
    "goog['2014']['Adj. Close'].plot(title = 'Google Stock Price 2014 - Closed')\n",
    "plt.tight_layout()\n",
    "plt.show()"
   ]
  },
  {
   "cell_type": "code",
   "execution_count": 174,
   "metadata": {},
   "outputs": [
    {
     "name": "stdout",
     "output_type": "stream",
     "text": [
      "<class 'pandas.core.frame.DataFrame'>\n",
      "DatetimeIndex: 48 entries, 2014-03-31 to 2018-02-28\n",
      "Freq: M\n",
      "Data columns (total 12 columns):\n",
      "Open           34 non-null float64\n",
      "High           34 non-null float64\n",
      "Low            34 non-null float64\n",
      "Close          34 non-null float64\n",
      "Volume         34 non-null float64\n",
      "Ex-Dividend    34 non-null float64\n",
      "Split Ratio    34 non-null float64\n",
      "Adj. Open      34 non-null float64\n",
      "Adj. High      34 non-null float64\n",
      "Adj. Low       34 non-null float64\n",
      "Adj. Close     34 non-null float64\n",
      "Adj. Volume    34 non-null float64\n",
      "dtypes: float64(12)\n",
      "memory usage: 4.9 KB\n"
     ]
    }
   ],
   "source": [
    "google = goog.asfreq('M')\n",
    "google.info()"
   ]
  },
  {
   "cell_type": "code",
   "execution_count": 175,
   "metadata": {},
   "outputs": [
    {
     "data": {
      "text/html": [
       "<div>\n",
       "<style>\n",
       "    .dataframe thead tr:only-child th {\n",
       "        text-align: right;\n",
       "    }\n",
       "\n",
       "    .dataframe thead th {\n",
       "        text-align: left;\n",
       "    }\n",
       "\n",
       "    .dataframe tbody tr th {\n",
       "        vertical-align: top;\n",
       "    }\n",
       "</style>\n",
       "<table border=\"1\" class=\"dataframe\">\n",
       "  <thead>\n",
       "    <tr style=\"text-align: right;\">\n",
       "      <th></th>\n",
       "      <th>Open</th>\n",
       "      <th>High</th>\n",
       "      <th>Low</th>\n",
       "      <th>Close</th>\n",
       "      <th>Volume</th>\n",
       "      <th>Ex-Dividend</th>\n",
       "      <th>Split Ratio</th>\n",
       "      <th>Adj. Open</th>\n",
       "      <th>Adj. High</th>\n",
       "      <th>Adj. Low</th>\n",
       "      <th>Adj. Close</th>\n",
       "      <th>Adj. Volume</th>\n",
       "    </tr>\n",
       "    <tr>\n",
       "      <th>Date</th>\n",
       "      <th></th>\n",
       "      <th></th>\n",
       "      <th></th>\n",
       "      <th></th>\n",
       "      <th></th>\n",
       "      <th></th>\n",
       "      <th></th>\n",
       "      <th></th>\n",
       "      <th></th>\n",
       "      <th></th>\n",
       "      <th></th>\n",
       "      <th></th>\n",
       "    </tr>\n",
       "  </thead>\n",
       "  <tbody>\n",
       "    <tr>\n",
       "      <th>2014-03-31</th>\n",
       "      <td>566.89</td>\n",
       "      <td>567.0000</td>\n",
       "      <td>556.93</td>\n",
       "      <td>556.97</td>\n",
       "      <td>10800.0</td>\n",
       "      <td>0.0</td>\n",
       "      <td>1.0</td>\n",
       "      <td>566.89</td>\n",
       "      <td>567.0000</td>\n",
       "      <td>556.93</td>\n",
       "      <td>556.97</td>\n",
       "      <td>10800.0</td>\n",
       "    </tr>\n",
       "    <tr>\n",
       "      <th>2014-04-30</th>\n",
       "      <td>527.60</td>\n",
       "      <td>528.0000</td>\n",
       "      <td>522.52</td>\n",
       "      <td>526.66</td>\n",
       "      <td>1746400.0</td>\n",
       "      <td>0.0</td>\n",
       "      <td>1.0</td>\n",
       "      <td>527.60</td>\n",
       "      <td>528.0000</td>\n",
       "      <td>522.52</td>\n",
       "      <td>526.66</td>\n",
       "      <td>1746400.0</td>\n",
       "    </tr>\n",
       "    <tr>\n",
       "      <th>2014-05-31</th>\n",
       "      <td>NaN</td>\n",
       "      <td>NaN</td>\n",
       "      <td>NaN</td>\n",
       "      <td>NaN</td>\n",
       "      <td>NaN</td>\n",
       "      <td>NaN</td>\n",
       "      <td>NaN</td>\n",
       "      <td>NaN</td>\n",
       "      <td>NaN</td>\n",
       "      <td>NaN</td>\n",
       "      <td>NaN</td>\n",
       "      <td>NaN</td>\n",
       "    </tr>\n",
       "    <tr>\n",
       "      <th>2014-06-30</th>\n",
       "      <td>578.66</td>\n",
       "      <td>579.5700</td>\n",
       "      <td>574.75</td>\n",
       "      <td>575.28</td>\n",
       "      <td>1310200.0</td>\n",
       "      <td>0.0</td>\n",
       "      <td>1.0</td>\n",
       "      <td>578.66</td>\n",
       "      <td>579.5700</td>\n",
       "      <td>574.75</td>\n",
       "      <td>575.28</td>\n",
       "      <td>1310200.0</td>\n",
       "    </tr>\n",
       "    <tr>\n",
       "      <th>2014-07-31</th>\n",
       "      <td>580.60</td>\n",
       "      <td>583.6499</td>\n",
       "      <td>570.00</td>\n",
       "      <td>571.60</td>\n",
       "      <td>2097000.0</td>\n",
       "      <td>0.0</td>\n",
       "      <td>1.0</td>\n",
       "      <td>580.60</td>\n",
       "      <td>583.6499</td>\n",
       "      <td>570.00</td>\n",
       "      <td>571.60</td>\n",
       "      <td>2097000.0</td>\n",
       "    </tr>\n",
       "  </tbody>\n",
       "</table>\n",
       "</div>"
      ],
      "text/plain": [
       "              Open      High     Low   Close     Volume  Ex-Dividend  \\\n",
       "Date                                                                   \n",
       "2014-03-31  566.89  567.0000  556.93  556.97    10800.0          0.0   \n",
       "2014-04-30  527.60  528.0000  522.52  526.66  1746400.0          0.0   \n",
       "2014-05-31     NaN       NaN     NaN     NaN        NaN          NaN   \n",
       "2014-06-30  578.66  579.5700  574.75  575.28  1310200.0          0.0   \n",
       "2014-07-31  580.60  583.6499  570.00  571.60  2097000.0          0.0   \n",
       "\n",
       "            Split Ratio  Adj. Open  Adj. High  Adj. Low  Adj. Close  \\\n",
       "Date                                                                  \n",
       "2014-03-31          1.0     566.89   567.0000    556.93      556.97   \n",
       "2014-04-30          1.0     527.60   528.0000    522.52      526.66   \n",
       "2014-05-31          NaN        NaN        NaN       NaN         NaN   \n",
       "2014-06-30          1.0     578.66   579.5700    574.75      575.28   \n",
       "2014-07-31          1.0     580.60   583.6499    570.00      571.60   \n",
       "\n",
       "            Adj. Volume  \n",
       "Date                     \n",
       "2014-03-31      10800.0  \n",
       "2014-04-30    1746400.0  \n",
       "2014-05-31          NaN  \n",
       "2014-06-30    1310200.0  \n",
       "2014-07-31    2097000.0  "
      ]
     },
     "execution_count": 175,
     "metadata": {},
     "output_type": "execute_result"
    }
   ],
   "source": [
    "google.head()"
   ]
  },
  {
   "cell_type": "code",
   "execution_count": 176,
   "metadata": {},
   "outputs": [
    {
     "data": {
      "text/plain": [
       "Date\n",
       "2015-01-02    524.81\n",
       "2015-01-05    513.87\n",
       "2015-01-06    501.96\n",
       "2015-01-07    501.10\n",
       "2015-01-08    502.68\n",
       "2015-01-09    496.17\n",
       "2015-01-12    492.55\n",
       "2015-01-13    496.18\n",
       "2015-01-14    500.87\n",
       "2015-01-15    501.79\n",
       "2015-01-16    508.08\n",
       "2015-01-20    506.90\n",
       "2015-01-21    518.04\n",
       "2015-01-22    534.39\n",
       "2015-01-23    539.95\n",
       "2015-01-26    535.21\n",
       "2015-01-27    518.63\n",
       "2015-01-28    510.00\n",
       "2015-01-29    510.66\n",
       "2015-01-30    534.52\n",
       "Name: Close, dtype: float64"
      ]
     },
     "execution_count": 176,
     "metadata": {},
     "output_type": "execute_result"
    }
   ],
   "source": [
    "goog['2015-01'].Close"
   ]
  },
  {
   "cell_type": "code",
   "execution_count": 177,
   "metadata": {},
   "outputs": [
    {
     "data": {
      "text/plain": [
       "Date\n",
       "2015-02-02    528.48\n",
       "2015-02-03    529.24\n",
       "2015-02-04    522.76\n",
       "2015-02-05    527.58\n",
       "2015-02-06    531.00\n",
       "2015-02-09    527.83\n",
       "2015-02-10    536.94\n",
       "2015-02-11    535.97\n",
       "2015-02-12    542.93\n",
       "2015-02-13    549.01\n",
       "2015-02-17    542.84\n",
       "Name: Close, dtype: float64"
      ]
     },
     "execution_count": 177,
     "metadata": {},
     "output_type": "execute_result"
    }
   ],
   "source": [
    "goog['2015-02-01':'2015-02-17'].Close   #last date included"
   ]
  },
  {
   "cell_type": "code",
   "execution_count": 178,
   "metadata": {},
   "outputs": [
    {
     "data": {
      "text/plain": [
       "528.48"
      ]
     },
     "execution_count": 178,
     "metadata": {},
     "output_type": "execute_result"
    }
   ],
   "source": [
    "goog.loc['2015-02-02'].Close"
   ]
  },
  {
   "cell_type": "code",
   "execution_count": 179,
   "metadata": {},
   "outputs": [
    {
     "data": {
      "text/plain": [
       "528.48"
      ]
     },
     "execution_count": 179,
     "metadata": {},
     "output_type": "execute_result"
    }
   ],
   "source": [
    "goog.loc['2015-02-02', 'Close']"
   ]
  },
  {
   "cell_type": "code",
   "execution_count": 180,
   "metadata": {},
   "outputs": [
    {
     "data": {
      "text/html": [
       "<div>\n",
       "<style>\n",
       "    .dataframe thead tr:only-child th {\n",
       "        text-align: right;\n",
       "    }\n",
       "\n",
       "    .dataframe thead th {\n",
       "        text-align: left;\n",
       "    }\n",
       "\n",
       "    .dataframe tbody tr th {\n",
       "        vertical-align: top;\n",
       "    }\n",
       "</style>\n",
       "<table border=\"1\" class=\"dataframe\">\n",
       "  <thead>\n",
       "    <tr style=\"text-align: right;\">\n",
       "      <th></th>\n",
       "      <th>Open</th>\n",
       "      <th>High</th>\n",
       "      <th>Low</th>\n",
       "      <th>Close</th>\n",
       "      <th>Volume</th>\n",
       "      <th>Ex-Dividend</th>\n",
       "      <th>Split Ratio</th>\n",
       "      <th>Adj. Open</th>\n",
       "      <th>Adj. High</th>\n",
       "      <th>Adj. Low</th>\n",
       "      <th>Adj. Close</th>\n",
       "      <th>Adj. Volume</th>\n",
       "    </tr>\n",
       "    <tr>\n",
       "      <th>Date</th>\n",
       "      <th></th>\n",
       "      <th></th>\n",
       "      <th></th>\n",
       "      <th></th>\n",
       "      <th></th>\n",
       "      <th></th>\n",
       "      <th></th>\n",
       "      <th></th>\n",
       "      <th></th>\n",
       "      <th></th>\n",
       "      <th></th>\n",
       "      <th></th>\n",
       "    </tr>\n",
       "  </thead>\n",
       "  <tbody>\n",
       "    <tr>\n",
       "      <th>2014-03-27</th>\n",
       "      <td>568.00</td>\n",
       "      <td>568.00</td>\n",
       "      <td>552.92</td>\n",
       "      <td>558.46</td>\n",
       "      <td>13100.0</td>\n",
       "      <td>0.0</td>\n",
       "      <td>1.0</td>\n",
       "      <td>568.00</td>\n",
       "      <td>568.00</td>\n",
       "      <td>552.92</td>\n",
       "      <td>558.46</td>\n",
       "      <td>13100.0</td>\n",
       "    </tr>\n",
       "    <tr>\n",
       "      <th>2014-03-28</th>\n",
       "      <td>561.20</td>\n",
       "      <td>566.43</td>\n",
       "      <td>558.67</td>\n",
       "      <td>559.99</td>\n",
       "      <td>41100.0</td>\n",
       "      <td>0.0</td>\n",
       "      <td>1.0</td>\n",
       "      <td>561.20</td>\n",
       "      <td>566.43</td>\n",
       "      <td>558.67</td>\n",
       "      <td>559.99</td>\n",
       "      <td>41100.0</td>\n",
       "    </tr>\n",
       "    <tr>\n",
       "      <th>2014-03-29</th>\n",
       "      <td>NaN</td>\n",
       "      <td>NaN</td>\n",
       "      <td>NaN</td>\n",
       "      <td>NaN</td>\n",
       "      <td>NaN</td>\n",
       "      <td>NaN</td>\n",
       "      <td>NaN</td>\n",
       "      <td>NaN</td>\n",
       "      <td>NaN</td>\n",
       "      <td>NaN</td>\n",
       "      <td>NaN</td>\n",
       "      <td>NaN</td>\n",
       "    </tr>\n",
       "    <tr>\n",
       "      <th>2014-03-30</th>\n",
       "      <td>NaN</td>\n",
       "      <td>NaN</td>\n",
       "      <td>NaN</td>\n",
       "      <td>NaN</td>\n",
       "      <td>NaN</td>\n",
       "      <td>NaN</td>\n",
       "      <td>NaN</td>\n",
       "      <td>NaN</td>\n",
       "      <td>NaN</td>\n",
       "      <td>NaN</td>\n",
       "      <td>NaN</td>\n",
       "      <td>NaN</td>\n",
       "    </tr>\n",
       "    <tr>\n",
       "      <th>2014-03-31</th>\n",
       "      <td>566.89</td>\n",
       "      <td>567.00</td>\n",
       "      <td>556.93</td>\n",
       "      <td>556.97</td>\n",
       "      <td>10800.0</td>\n",
       "      <td>0.0</td>\n",
       "      <td>1.0</td>\n",
       "      <td>566.89</td>\n",
       "      <td>567.00</td>\n",
       "      <td>556.93</td>\n",
       "      <td>556.97</td>\n",
       "      <td>10800.0</td>\n",
       "    </tr>\n",
       "  </tbody>\n",
       "</table>\n",
       "</div>"
      ],
      "text/plain": [
       "              Open    High     Low   Close   Volume  Ex-Dividend  Split Ratio  \\\n",
       "Date                                                                            \n",
       "2014-03-27  568.00  568.00  552.92  558.46  13100.0          0.0          1.0   \n",
       "2014-03-28  561.20  566.43  558.67  559.99  41100.0          0.0          1.0   \n",
       "2014-03-29     NaN     NaN     NaN     NaN      NaN          NaN          NaN   \n",
       "2014-03-30     NaN     NaN     NaN     NaN      NaN          NaN          NaN   \n",
       "2014-03-31  566.89  567.00  556.93  556.97  10800.0          0.0          1.0   \n",
       "\n",
       "            Adj. Open  Adj. High  Adj. Low  Adj. Close  Adj. Volume  \n",
       "Date                                                                 \n",
       "2014-03-27     568.00     568.00    552.92      558.46      13100.0  \n",
       "2014-03-28     561.20     566.43    558.67      559.99      41100.0  \n",
       "2014-03-29        NaN        NaN       NaN         NaN          NaN  \n",
       "2014-03-30        NaN        NaN       NaN         NaN          NaN  \n",
       "2014-03-31     566.89     567.00    556.93      556.97      10800.0  "
      ]
     },
     "execution_count": 180,
     "metadata": {},
     "output_type": "execute_result"
    }
   ],
   "source": [
    "goog.asfreq('D').head()    # upsampling"
   ]
  },
  {
   "cell_type": "code",
   "execution_count": 181,
   "metadata": {},
   "outputs": [
    {
     "data": {
      "text/plain": [
       "{2014, 2015, 2016, 2017, 2018}"
      ]
     },
     "execution_count": 181,
     "metadata": {},
     "output_type": "execute_result"
    }
   ],
   "source": [
    "years = set(goog.index.year)\n",
    "years"
   ]
  },
  {
   "cell_type": "code",
   "execution_count": 182,
   "metadata": {},
   "outputs": [],
   "source": [
    "goog['lagged'] = goog.Close.shift(-50)"
   ]
  },
  {
   "cell_type": "code",
   "execution_count": 183,
   "metadata": {
    "collapsed": true
   },
   "outputs": [],
   "source": [
    "goog['shifted'] = goog.Close.shift(50)"
   ]
  },
  {
   "cell_type": "code",
   "execution_count": 191,
   "metadata": {},
   "outputs": [
    {
     "data": {
      "text/plain": [
       "<matplotlib.axes._subplots.AxesSubplot at 0x119b8edd8>"
      ]
     },
     "execution_count": 191,
     "metadata": {},
     "output_type": "execute_result"
    },
    {
     "data": {
      "image/png": "[encoded data removed]",
      "text/plain": [
       "<Figure size 432x288 with 1 Axes>"
      ]
     },
     "metadata": {},
     "output_type": "display_data"
    }
   ],
   "source": [
    "g = pd.concat((goog['lagged'], goog['shifted']), axis = 1)\n",
    "g.plot()"
   ]
  },
  {
   "cell_type": "code",
   "execution_count": null,
   "metadata": {
    "collapsed": true
   },
   "outputs": [],
   "source": []
  },
  {
   "cell_type": "code",
   "execution_count": null,
   "metadata": {
    "collapsed": true
   },
   "outputs": [],
   "source": []
  }
 ],
 "metadata": {
  "kernelspec": {
   "display_name": "Python 3",
   "language": "python",
   "name": "python3"
  },
  "language_info": {
   "codemirror_mode": {
    "name": "ipython",
    "version": 3
   },
   "file_extension": ".py",
   "mimetype": "text/x-python",
   "name": "python",
   "nbconvert_exporter": "python",
   "pygments_lexer": "ipython3",
   "version": "3.6.2"
  }
 },
 "nbformat": 4,
 "nbformat_minor": 2
}
